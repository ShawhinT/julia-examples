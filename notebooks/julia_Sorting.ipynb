{
 "cells": [
  {
   "cell_type": "markdown",
   "metadata": {},
   "source": [
    "# Sorting"
   ]
  },
  {
   "cell_type": "markdown",
   "metadata": {},
   "source": [
    "Code curated by: Shawhin Talebi <br />\n",
    "Source: https://docs.julialang.org/en/v1/base/sort/"
   ]
  },
  {
   "cell_type": "markdown",
   "metadata": {},
   "source": [
    "### Examples"
   ]
  },
  {
   "cell_type": "markdown",
   "metadata": {},
   "source": [
    "#### Ascending"
   ]
  },
  {
   "cell_type": "code",
   "execution_count": 1,
   "metadata": {},
   "outputs": [
    {
     "data": {
      "text/plain": [
       "4-element Vector{Int64}:\n",
       " 1\n",
       " 2\n",
       " 3\n",
       " 5"
      ]
     },
     "execution_count": 1,
     "metadata": {},
     "output_type": "execute_result"
    }
   ],
   "source": [
    "# Start by defining an array to sort\n",
    "a = [2, 1, 3, 5]\n",
    "\n",
    "# sorting in ascending order is the default operation\n",
    "sort(a)"
   ]
  },
  {
   "cell_type": "markdown",
   "metadata": {},
   "source": [
    "#### Descending"
   ]
  },
  {
   "cell_type": "code",
   "execution_count": 2,
   "metadata": {},
   "outputs": [
    {
     "data": {
      "text/plain": [
       "4-element Vector{Int64}:\n",
       " 5\n",
       " 3\n",
       " 2\n",
       " 1"
      ]
     },
     "execution_count": 2,
     "metadata": {},
     "output_type": "execute_result"
    }
   ],
   "source": [
    "# we can just as easily sort in descending order \n",
    "sort(a, rev=true)"
   ]
  },
  {
   "cell_type": "markdown",
   "metadata": {},
   "source": [
    "#### Sorted Indicies"
   ]
  },
  {
   "cell_type": "code",
   "execution_count": 3,
   "metadata": {},
   "outputs": [
    {
     "data": {
      "text/plain": [
       "4-element Vector{Int64}:\n",
       " 2\n",
       " 1\n",
       " 3\n",
       " 4"
      ]
     },
     "execution_count": 3,
     "metadata": {},
     "output_type": "execute_result"
    }
   ],
   "source": [
    "# In some cases it is desirable to obtain a permutation of indicies that sorts an input array. This can be acheived using the sortperm function\n",
    "\n",
    "# get permutation of inidicies that sorts a in descending order\n",
    "sortperm(a)"
   ]
  },
  {
   "cell_type": "markdown",
   "metadata": {},
   "source": [
    "#### In-place"
   ]
  },
  {
   "cell_type": "code",
   "execution_count": 4,
   "metadata": {},
   "outputs": [
    {
     "name": "stdout",
     "output_type": "stream",
     "text": [
      "Pre-sort: a = [2, 1, 3, 5]\n",
      "Post-sort: a = [1, 2, 3, 5]\n"
     ]
    }
   ],
   "source": [
    "# Alternatively we can sort in-place, meaning with a function call we simulateously sort an input array and update it\n",
    "\n",
    "# print current value of a\n",
    "println(\"Pre-sort: a = \", a)\n",
    "\n",
    "# sort in-place\n",
    "sort!(a)\n",
    "\n",
    "# print new value of a\n",
    "println(\"Post-sort: a = \", a)"
   ]
  },
  {
   "cell_type": "markdown",
   "metadata": {},
   "source": [
    "### Sorting Algorithms"
   ]
  },
  {
   "cell_type": "markdown",
   "metadata": {},
   "source": [
    "Julia makes it easy to use different sorting algorithms using the same sort function. Not all algorithms are equal in all situations. Which algorithm will work best (fastest) depends on the input array. A nice viusalization of this can be found here: https://www.toptal.com/developers/sorting-algorithms <br />\n",
    "<br />\n",
    "List of sorting algorithms available in Julia base can be found here: https://docs.julialang.org/en/v1/base/sort/#Sorting-Algorithms"
   ]
  },
  {
   "cell_type": "code",
   "execution_count": 10,
   "metadata": {},
   "outputs": [
    {
     "name": "stdout",
     "output_type": "stream",
     "text": [
      "QuickSort:  0.000012 seconds (1 allocation: 896 bytes)\n",
      "InsertionSort:  0.000016 seconds (1 allocation: 896 bytes)\n",
      "MergeSort:  0.000011 seconds (3 allocations: 1.391 KiB)\n"
     ]
    }
   ],
   "source": [
    "# define random array of numbers\n",
    "x = rand(1:500, 100)\n",
    "\n",
    "# try 3 different algorithms and assess performance\n",
    "print(\"QuickSort:\")\n",
    "@time qs = sort(x; alg=QuickSort);\n",
    "print(\"InsertionSort:\")\n",
    "@time is = sort(x; alg=InsertionSort);\n",
    "print(\"MergeSort:\")\n",
    "@time ms = sort(x; alg=MergeSort);"
   ]
  }
 ],
 "metadata": {
  "kernelspec": {
   "display_name": "Julia 1.6.0",
   "language": "julia",
   "name": "julia-1.6"
  },
  "language_info": {
   "file_extension": ".jl",
   "mimetype": "application/julia",
   "name": "julia",
   "version": "1.6.0"
  }
 },
 "nbformat": 4,
 "nbformat_minor": 4
}
