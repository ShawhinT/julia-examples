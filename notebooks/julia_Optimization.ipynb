{
 "cells": [
  {
   "cell_type": "markdown",
   "metadata": {},
   "source": [
    "# Optimization"
   ]
  },
  {
   "cell_type": "markdown",
   "metadata": {},
   "source": [
    "Code authored by: Shawhin Talebi <br />\n",
    "Source: https://julianlsolvers.github.io/Optim.jl/stable/"
   ]
  },
  {
   "cell_type": "markdown",
   "metadata": {},
   "source": [
    "### Load Package\n",
    "Note: Make sure you first install the Optim.jl and Plots.jl package"
   ]
  },
  {
   "cell_type": "code",
   "execution_count": null,
   "metadata": {},
   "outputs": [],
   "source": [
    "using Optim\n",
    "using Plots"
   ]
  },
  {
   "cell_type": "markdown",
   "metadata": {},
   "source": [
    "#### Minimizing 1D Function"
   ]
  },
  {
   "cell_type": "code",
   "execution_count": null,
   "metadata": {},
   "outputs": [],
   "source": [
    "# define function\n",
    "f1(x) = (x^4 + 2.0*x^3 + 3.0*x^2 - 6.0*x + 10.0)\n",
    "\n",
    "# plot function over x = [-2, 2]\n",
    "plot(f1, -2, 2, legend = false, lw = 3)\n",
    "xlabel!(\"x\")\n",
    "ylabel!(\"f(x)\")"
   ]
  },
  {
   "cell_type": "code",
   "execution_count": null,
   "metadata": {},
   "outputs": [],
   "source": [
    "# minimize function in x = [-2, 2] \n",
    "result = optimize(f1, -2, 2)"
   ]
  },
  {
   "cell_type": "code",
   "execution_count": null,
   "metadata": {},
   "outputs": [],
   "source": [
    "# grab minimizer and minimum from optimize result\n",
    "xstar = Optim.minimizer(result)\n",
    "fstar = Optim.minimum(result)\n",
    "\n",
    "# plot solution\n",
    "plot(f1, -2, 2, lw = 3, label = \"f(x)\")\n",
    "xlabel!(\"x\")\n",
    "ylabel!(\"f(x)\")\n",
    "scatter!([xstar], [fstar], label = \"min\",\n",
    "    markershape = :star,\n",
    "    markersize = 10,\n",
    "    markercolor = :yellow,\n",
    "    markerstrokewidth = 1,\n",
    "    markerstrokealpha = 0.2,\n",
    "    markerstrokecolor = :black)"
   ]
  },
  {
   "cell_type": "markdown",
   "metadata": {},
   "source": [
    "#### Minimizing 2D Function with Constraints"
   ]
  },
  {
   "cell_type": "code",
   "execution_count": null,
   "metadata": {},
   "outputs": [],
   "source": [
    "# define function\n",
    "f2(x,y) = x.^2 + x.*y - y.^2\n",
    "\n",
    "# define a domain\n",
    "x = range(-2,stop=2,length=100)\n",
    "y = range(-2,stop=2,length=100);"
   ]
  },
  {
   "cell_type": "code",
   "execution_count": null,
   "metadata": {},
   "outputs": [],
   "source": [
    "# plot function over domain\n",
    "plot(x, y, f2, st=:surface, xlabel = \"x\", ylabel = \"y\", zlabel = \"f(x,y)\")"
   ]
  },
  {
   "cell_type": "code",
   "execution_count": null,
   "metadata": {},
   "outputs": [],
   "source": [
    "# define function in terms of a vector\n",
    "f2(x) = x[1]^2 + x[1]*x[2] - x[2]^2\n",
    "\n",
    "# define lower and upper bounds of domain\n",
    "lower = [-2.0, -2.0]\n",
    "upper = [2.0, 2.0]\n",
    "# define an initial guess for solution\n",
    "initial_x = [1.0, 0.0]\n",
    "# choose an optimizer\n",
    "inner_optimizer = GradientDescent()\n",
    "\n",
    "# perform optimization\n",
    "result = optimize(f2, lower, upper, initial_x, Fminbox(inner_optimizer), inplace = false)"
   ]
  },
  {
   "cell_type": "code",
   "execution_count": null,
   "metadata": {},
   "outputs": [],
   "source": [
    "# grab minimizer and minimum from optimize result\n",
    "xstar = Optim.minimizer(result)\n",
    "println(\"xstar:\", (xstar))\n",
    "fstar = Optim.minimum(result)\n",
    "\n",
    "# plot solution\n",
    "plot(x, y, f2, st=:surface, xlabel = \"x\", ylabel = \"y\", zlabel = \"f(x,y)\")\n",
    "ylabel!(\"f(x)\")\n",
    "plot!([xstar[1]], [xstar[2]], [fstar], st=:scatter3d, label = \"min\",\n",
    "    markershape = :star,\n",
    "    markersize = 10,\n",
    "    markercolor = :yellow,\n",
    "    markerstrokewidth = 1,\n",
    "    markerstrokealpha = 0.2,\n",
    "    markerstrokecolor = :black)"
   ]
  }
 ],
 "metadata": {
  "kernelspec": {
   "display_name": "Julia 1.6.0",
   "language": "julia",
   "name": "julia-1.6"
  },
  "language_info": {
   "file_extension": ".jl",
   "mimetype": "application/julia",
   "name": "julia",
   "version": "1.6.0"
  }
 },
 "nbformat": 4,
 "nbformat_minor": 4
}
