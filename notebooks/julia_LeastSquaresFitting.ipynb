{
 "cells": [
  {
   "cell_type": "markdown",
   "metadata": {},
   "source": [
    "# Least-squares Fitting"
   ]
  },
  {
   "cell_type": "markdown",
   "metadata": {},
   "source": [
    "Code curated by: Shawhin Talebi <br />\n",
    "Source: https://julianlsolvers.github.io/LsqFit.jl/latest/getting_started/"
   ]
  },
  {
   "cell_type": "markdown",
   "metadata": {},
   "source": [
    "### Load Package\n",
    "Note: Make sure you first install the LsqFit.jl Package "
   ]
  },
  {
   "cell_type": "code",
   "execution_count": 1,
   "metadata": {},
   "outputs": [],
   "source": [
    "using LsqFit"
   ]
  },
  {
   "cell_type": "markdown",
   "metadata": {},
   "source": [
    "### Linear Regression"
   ]
  },
  {
   "cell_type": "code",
   "execution_count": 2,
   "metadata": {},
   "outputs": [
    {
     "data": {
      "text/plain": [
       "model (generic function with 1 method)"
      ]
     },
     "execution_count": 2,
     "metadata": {},
     "output_type": "execute_result"
    }
   ],
   "source": [
    "# define linear model with 2 parameter where:\n",
    "    # t: array of independent variable\n",
    "    # p: array of model parameters\n",
    "\n",
    "# create generic function that performs linear mapping\n",
    "model(t, p) = (p[1] * t) .+ p[2]"
   ]
  },
  {
   "cell_type": "code",
   "execution_count": 3,
   "metadata": {},
   "outputs": [],
   "source": [
    "# generate fake data to fit to model where\n",
    "    # tdata: data of independent variable\n",
    "    # ydata: data of dependent variable\n",
    "\n",
    "# define true (data generating) parameter values\n",
    "ptrue = [1.0 2.0]\n",
    "\n",
    "# fake independent variable data\n",
    "tdata = collect(0:0.5:10)\n",
    "\n",
    "# use model to generate fake dependent variable data\n",
    "ydata = model(tdata, ptrue) + 0.01*randn(length(tdata));"
   ]
  },
  {
   "cell_type": "code",
   "execution_count": 4,
   "metadata": {},
   "outputs": [],
   "source": [
    "# define initial guess of parameter values\n",
    "p0 = [0.5, 0.5];"
   ]
  },
  {
   "cell_type": "code",
   "execution_count": 5,
   "metadata": {},
   "outputs": [
    {
     "name": "stdout",
     "output_type": "stream",
     "text": [
      "True Parameter Values:\n",
      "[1.0 2.0]\n",
      "Estimated Parameter Values:\n",
      "[0.9995158082714674, 2.0023902997125878]\n"
     ]
    }
   ],
   "source": [
    "# fit data to linear model using curve_fit function\n",
    "fit = curve_fit(model, tdata, ydata, p0)\n",
    "\n",
    "# get parameters of fit model\n",
    "pfit = fit.param\n",
    "\n",
    "# print true and estimated parameter values\n",
    "println(\"True Parameter Values:\")\n",
    "println(ptrue)\n",
    "println(\"Estimated Parameter Values:\")\n",
    "println(pfit)"
   ]
  },
  {
   "cell_type": "code",
   "execution_count": 6,
   "metadata": {},
   "outputs": [
    {
     "data": {
      "text/plain": [
       "2×2 Matrix{Float64}:\n",
       "  1.65482e-7  -8.27409e-7\n",
       " -8.27409e-7   5.65396e-6"
      ]
     },
     "execution_count": 6,
     "metadata": {},
     "output_type": "execute_result"
    }
   ],
   "source": [
    "# covariance matrix between estimated and true y values\n",
    "cov = estimate_covar(fit)"
   ]
  },
  {
   "cell_type": "markdown",
   "metadata": {},
   "source": [
    "### Nonlinear Regression\n",
    "\n",
    "We can perform nonlinear regression by using the same code as before by simply redefining our model "
   ]
  },
  {
   "cell_type": "code",
   "execution_count": 7,
   "metadata": {},
   "outputs": [
    {
     "data": {
      "text/plain": [
       "model (generic function with 1 method)"
      ]
     },
     "execution_count": 7,
     "metadata": {},
     "output_type": "execute_result"
    }
   ],
   "source": [
    "# define nonlinear model with 2 parameter where:\n",
    "    # t: array of independent variable\n",
    "    # p: array of model parameters\n",
    "\n",
    "# create generic function that performs nonlinear mapping\n",
    "model(t, p) = p[1] * exp.(-p[2] * t)"
   ]
  },
  {
   "cell_type": "code",
   "execution_count": 8,
   "metadata": {},
   "outputs": [],
   "source": [
    "# generate fake data to fit to model where\n",
    "    # tdata: data of independent variable\n",
    "    # ydata: data of dependent variable\n",
    "\n",
    "# define true (data generating) parameter values\n",
    "ptrue = [1.0 2.0]\n",
    "\n",
    "# fake independent variable data\n",
    "tdata = collect(0:0.5:10)\n",
    "\n",
    "# use model to generate fake dependent variable data\n",
    "ydata = model(tdata, ptrue) + 0.01*randn(length(tdata));"
   ]
  },
  {
   "cell_type": "code",
   "execution_count": 9,
   "metadata": {},
   "outputs": [],
   "source": [
    "# define initial guess of parameter values\n",
    "p0 = [0.5, 0.5];"
   ]
  },
  {
   "cell_type": "code",
   "execution_count": 10,
   "metadata": {},
   "outputs": [
    {
     "name": "stdout",
     "output_type": "stream",
     "text": [
      "True Parameter Values:\n",
      "[1.0 2.0]\n",
      "Estimated Parameter Values:\n",
      "[1.0071253254413766, 2.069451033652171]\n"
     ]
    }
   ],
   "source": [
    "# fit data to linear model using curve_fit function\n",
    "fit = curve_fit(model, tdata, ydata, p0)\n",
    "\n",
    "# get parameters of fit model\n",
    "pfit = fit.param\n",
    "\n",
    "# print true and estimated parameter values\n",
    "println(\"True Parameter Values:\")\n",
    "println(ptrue)\n",
    "println(\"Estimated Parameter Values:\")\n",
    "println(pfit)"
   ]
  },
  {
   "cell_type": "code",
   "execution_count": 11,
   "metadata": {},
   "outputs": [
    {
     "data": {
      "text/plain": [
       "2×2 Matrix{Float64}:\n",
       " 0.000113473  0.000174819\n",
       " 0.000174819  0.00240254"
      ]
     },
     "execution_count": 11,
     "metadata": {},
     "output_type": "execute_result"
    }
   ],
   "source": [
    "# covariance matrix between estimated and true y values\n",
    "cov = estimate_covar(fit)"
   ]
  }
 ],
 "metadata": {
  "kernelspec": {
   "display_name": "Julia 1.6.0",
   "language": "julia",
   "name": "julia-1.6"
  },
  "language_info": {
   "file_extension": ".jl",
   "mimetype": "application/julia",
   "name": "julia",
   "version": "1.6.0"
  }
 },
 "nbformat": 4,
 "nbformat_minor": 4
}
