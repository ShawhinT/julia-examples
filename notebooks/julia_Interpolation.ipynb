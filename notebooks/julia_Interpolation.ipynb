{
 "cells": [
  {
   "cell_type": "markdown",
   "metadata": {},
   "source": [
    "# Interpolation"
   ]
  },
  {
   "cell_type": "markdown",
   "metadata": {},
   "source": [
    "Code curated by: Shawhin Talebi <br />\n",
    "Source: http://juliamath.github.io/Interpolations.jl/dev/"
   ]
  },
  {
   "cell_type": "markdown",
   "metadata": {},
   "source": [
    "### Load Package\n",
    "Note: Make sure you first install the Interpolations.jl Package "
   ]
  },
  {
   "cell_type": "code",
   "execution_count": 1,
   "metadata": {},
   "outputs": [],
   "source": [
    "using Interpolations"
   ]
  },
  {
   "cell_type": "markdown",
   "metadata": {},
   "source": [
    "### Linear Interpolation"
   ]
  },
  {
   "cell_type": "code",
   "execution_count": 2,
   "metadata": {},
   "outputs": [],
   "source": [
    "# create input data for arbitrary function\n",
    "xgrid = 1:0.2:5\n",
    "\n",
    "# define some funtion\n",
    "f(x) = log(x)\n",
    "\n",
    "# generate data using function\n",
    "ygrid = [f(x) for x in xgrid];"
   ]
  },
  {
   "cell_type": "code",
   "execution_count": 3,
   "metadata": {},
   "outputs": [],
   "source": [
    "# create linear interpolation object\n",
    "interp_linear = LinearInterpolation(xgrid, ygrid);"
   ]
  },
  {
   "cell_type": "code",
   "execution_count": 4,
   "metadata": {},
   "outputs": [
    {
     "name": "stdout",
     "output_type": "stream",
     "text": [
      "log(3): true value = 1.0986122886681098, interpolated value = 1.0986122886681098\n",
      "log(3.1): true value = 1.1314021114911006, interpolated value = 1.1308815492368953\n",
      "log(0.9): true value = -0.10536051565782628\n",
      "Error when interpolating since 0.9 sits outside grid\n"
     ]
    },
    {
     "ename": "LoadError",
     "evalue": "BoundsError: attempt to access 21-element extrapolate(scale(interpolate(::Vector{Float64}, BSpline(Linear())), (1.0:0.2:5.0,)), Throw()) with element type Float64 at index [0.9]",
     "output_type": "error",
     "traceback": [
      "BoundsError: attempt to access 21-element extrapolate(scale(interpolate(::Vector{Float64}, BSpline(Linear())), (1.0:0.2:5.0,)), Throw()) with element type Float64 at index [0.9]",
      "",
      "Stacktrace:",
      " [1] throw_boundserror(A::Interpolations.Extrapolation{Float64, 1, ScaledInterpolation{Float64, 1, Interpolations.BSplineInterpolation{Float64, 1, Vector{Float64}, BSpline{Linear}, Tuple{Base.OneTo{Int64}}}, BSpline{Linear}, Tuple{StepRangeLen{Float64, Base.TwicePrecision{Float64}, Base.TwicePrecision{Float64}}}}, BSpline{Linear}, Throw{Nothing}}, I::Tuple{Float64})",
      "   @ Base ./abstractarray.jl:651",
      " [2] inbounds_index",
      "   @ ~/.julia/packages/Interpolations/GIn2o/src/extrapolation/extrapolation.jl:108 [inlined]",
      " [3] inbounds_position",
      "   @ ~/.julia/packages/Interpolations/GIn2o/src/extrapolation/extrapolation.jl:99 [inlined]",
      " [4] (::Interpolations.Extrapolation{Float64, 1, ScaledInterpolation{Float64, 1, Interpolations.BSplineInterpolation{Float64, 1, Vector{Float64}, BSpline{Linear}, Tuple{Base.OneTo{Int64}}}, BSpline{Linear}, Tuple{StepRangeLen{Float64, Base.TwicePrecision{Float64}, Base.TwicePrecision{Float64}}}}, BSpline{Linear}, Throw{Nothing}})(x::Float64)",
      "   @ Interpolations ~/.julia/packages/Interpolations/GIn2o/src/extrapolation/extrapolation.jl:48",
      " [5] top-level scope",
      "   @ In[4]:6",
      " [6] eval",
      "   @ ./boot.jl:360 [inlined]",
      " [7] include_string(mapexpr::typeof(REPL.softscope), mod::Module, code::String, filename::String)",
      "   @ Base ./loading.jl:1094"
     ]
    }
   ],
   "source": [
    "# perform linear interpolation and print results\n",
    "println(\"log(3): true value = \", log(3), \", interpolated value = \", interp_linear(3))\n",
    "println(\"log(3.1): true value = \", log(3.1), \", interpolated value = \", interp_linear(3.1))\n",
    "println(\"log(0.9): true value = \", log(0.9))\n",
    "println(\"Error when interpolating since 0.9 sits outside grid\")\n",
    "println(\"interpolated value = \", interp_linear(0.9))"
   ]
  },
  {
   "cell_type": "markdown",
   "metadata": {},
   "source": [
    "### Linear Interpolation with Extrapolation"
   ]
  },
  {
   "cell_type": "code",
   "execution_count": 20,
   "metadata": {},
   "outputs": [
    {
     "name": "stdout",
     "output_type": "stream",
     "text": [
      "log(0.9): true value = -0.10536051565782628, interpolated value = -0.09116077839697727\n"
     ]
    }
   ],
   "source": [
    "# create linear interpolation and extrapolation object\n",
    "interp_linear_extrap = LinearInterpolation(xgrid, ygrid, extrapolation_bc=Line()) \n",
    "\n",
    "# print result\n",
    "println(\"log(0.9): true value = \", log(0.9), \", interpolated value = \", interp_linear_extrap(0.9))"
   ]
  },
  {
   "cell_type": "markdown",
   "metadata": {},
   "source": [
    "### Cubic Spline Interpolation with Extrapolation"
   ]
  },
  {
   "cell_type": "code",
   "execution_count": 24,
   "metadata": {},
   "outputs": [
    {
     "name": "stdout",
     "output_type": "stream",
     "text": [
      "log(3): true value = 1.0986122886681098, interpolated value = 1.0986122886681098\n",
      "log(3.1): true value = 1.1314021114911006, interpolated value = 1.1314023737384542\n",
      "log(0.9): true value = -0.10536051565782628, interpolated value = -0.09431991267995798\n"
     ]
    }
   ],
   "source": [
    "# create cubic spline interpolation and extrapolation object\n",
    "itp = CubicSplineInterpolation(xgrid, ygrid, bc=Line(OnGrid()), extrapolation_bc=Line())\n",
    "\n",
    "# print results\n",
    "println(\"log(3): true value = \", log(3), \", interpolated value = \", itp(3))\n",
    "println(\"log(3.1): true value = \", log(3.1), \", interpolated value = \", itp(3.1))\n",
    "println(\"log(0.9): true value = \", log(0.9), \", interpolated value = \", itp(0.9))"
   ]
  }
 ],
 "metadata": {
  "kernelspec": {
   "display_name": "Julia 1.6.0",
   "language": "julia",
   "name": "julia-1.6"
  },
  "language_info": {
   "file_extension": ".jl",
   "mimetype": "application/julia",
   "name": "julia",
   "version": "1.6.0"
  }
 },
 "nbformat": 4,
 "nbformat_minor": 4
}
