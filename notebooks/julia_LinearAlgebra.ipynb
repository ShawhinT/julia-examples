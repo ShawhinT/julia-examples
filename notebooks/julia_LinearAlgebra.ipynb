{
 "cells": [
  {
   "cell_type": "markdown",
   "metadata": {},
   "source": [
    "# Linear Algebra"
   ]
  },
  {
   "cell_type": "markdown",
   "metadata": {},
   "source": [
    "Code curated by: Shawhin Talebi\n",
    "Source: https://docs.julialang.org/en/v1/stdlib/LinearAlgebra/"
   ]
  },
  {
   "cell_type": "markdown",
   "metadata": {},
   "source": [
    "### Load package\n",
    "\n",
    "Note: Make sure you first install the LinearAlgebra.jl Package "
   ]
  },
  {
   "cell_type": "code",
   "execution_count": 1,
   "metadata": {},
   "outputs": [],
   "source": [
    "using LinearAlgebra"
   ]
  },
  {
   "cell_type": "markdown",
   "metadata": {},
   "source": [
    "### Basics: trace, determinant, & inverse"
   ]
  },
  {
   "cell_type": "code",
   "execution_count": 2,
   "metadata": {},
   "outputs": [
    {
     "name": "stdout",
     "output_type": "stream",
     "text": [
      "A = [1 2 3; 4 1 6; 7 8 1]\n",
      "tr(A) = 3\n",
      "det(A) = 104.0\n",
      "inv(A) = [-0.4519230769230769 0.2115384615384615 0.08653846153846155; 0.3653846153846154 -0.1923076923076923 0.057692307692307675; 0.24038461538461536 0.057692307692307696 -0.0673076923076923]\n"
     ]
    }
   ],
   "source": [
    "# define a matrix to play with\n",
    "A = [1 2 3; 4 1 6; 7 8 1]\n",
    "\n",
    "# print matrix\n",
    "println(string(\"A = \", A))\n",
    "\n",
    "# compute and print trace of matrix\n",
    "println(string(\"tr(A) = \", tr(A)))\n",
    "\n",
    "# compute and print determinant of matrix\n",
    "println(string(\"det(A) = \", det(A)))\n",
    "\n",
    "# compute and print inverse of matrix\n",
    "println(string(\"inv(A) = \", inv(A)))"
   ]
  },
  {
   "cell_type": "markdown",
   "metadata": {},
   "source": [
    "### Eigenvalue problem"
   ]
  },
  {
   "cell_type": "code",
   "execution_count": 3,
   "metadata": {},
   "outputs": [
    {
     "name": "stdout",
     "output_type": "stream",
     "text": [
      "A = [1 2; 4 3]\n",
      "Eigenvalues of A = [-1.0, 5.0]\n",
      "Eigenvectors of A = [-0.7071067811865475 -0.4472135954999579; 0.7071067811865475 -0.8944271909999159]\n"
     ]
    }
   ],
   "source": [
    "# define a matrix to play with\n",
    "A = [1 2; 4 3]\n",
    "\n",
    "# print matrix\n",
    "println(string(\"A = \", A))\n",
    "\n",
    "# compute and print eigenvalues of matrix\n",
    "println(string(\"Eigenvalues of A = \", eigvals(A)))\n",
    "\n",
    "# compute and print eigenvectors of matrix (columns of matrix indicate vectors)\n",
    "println(string(\"Eigenvectors of A = \", eigvecs(A)))"
   ]
  },
  {
   "cell_type": "markdown",
   "metadata": {},
   "source": [
    "### Matrix Factorization"
   ]
  },
  {
   "cell_type": "markdown",
   "metadata": {},
   "source": [
    "Resource: https://docs.julialang.org/en/v1/stdlib/LinearAlgebra/#LinearAlgebra.factorize"
   ]
  },
  {
   "cell_type": "code",
   "execution_count": 4,
   "metadata": {},
   "outputs": [
    {
     "name": "stdout",
     "output_type": "stream",
     "text": [
      "A = [1.5 2.0 -4.0; 3.0 -1.0 -6.0; -10.0 2.3 4.0]\n",
      "\n",
      "LU factorization of A: \n",
      "----------------------\n"
     ]
    },
    {
     "data": {
      "text/plain": [
       "LU{Float64, Matrix{Float64}}\n",
       "L factor:\n",
       "3×3 Matrix{Float64}:\n",
       "  1.0    0.0       0.0\n",
       " -0.15   1.0       0.0\n",
       " -0.3   -0.132196  1.0\n",
       "U factor:\n",
       "3×3 Matrix{Float64}:\n",
       " -10.0  2.3     4.0\n",
       "   0.0  2.345  -3.4\n",
       "   0.0  0.0    -5.24947"
      ]
     },
     "execution_count": 4,
     "metadata": {},
     "output_type": "execute_result"
    }
   ],
   "source": [
    "# define a matrix to factorize\n",
    "A = [1.5 2 -4; 3 -1 -6; -10 2.3 4]\n",
    "\n",
    "# print matrix\n",
    "println(string(\"A = \", A))\n",
    "println()\n",
    "\n",
    "# factorize() will automatically check A and factorize it based on it's properties\n",
    "# for example: for a square matrix like A it will automatically factorize the matrix into a lower and upper triangluar parts\n",
    "# print strings\n",
    "println(\"LU factorization of A: \")\n",
    "println(\"----------------------\")\n",
    "\n",
    "# factorize A\n",
    "factorize(A)"
   ]
  },
  {
   "cell_type": "markdown",
   "metadata": {},
   "source": [
    "### Singular Value Decomposition"
   ]
  },
  {
   "cell_type": "markdown",
   "metadata": {},
   "source": [
    "Resource: https://docs.julialang.org/en/v1/stdlib/LinearAlgebra/#Standard-functions"
   ]
  },
  {
   "cell_type": "code",
   "execution_count": 5,
   "metadata": {},
   "outputs": [
    {
     "name": "stdout",
     "output_type": "stream",
     "text": [
      "A = [1.0 0.0 0.0 0.0 2.0; 0.0 0.0 3.0 0.0 0.0; 0.0 0.0 0.0 0.0 0.0; 0.0 2.0 0.0 0.0 0.0]\n",
      "\n",
      "Singular Value Decomposition of A: \n",
      "----------------------------------\n"
     ]
    },
    {
     "data": {
      "text/plain": [
       "SVD{Float64, Float64, Matrix{Float64}}\n",
       "U factor:\n",
       "4×4 Matrix{Float64}:\n",
       " 0.0  1.0  0.0   0.0\n",
       " 1.0  0.0  0.0   0.0\n",
       " 0.0  0.0  0.0  -1.0\n",
       " 0.0  0.0  1.0   0.0\n",
       "singular values:\n",
       "4-element Vector{Float64}:\n",
       " 3.0\n",
       " 2.23606797749979\n",
       " 2.0\n",
       " 0.0\n",
       "Vt factor:\n",
       "4×5 Matrix{Float64}:\n",
       " -0.0       0.0  1.0  -0.0  0.0\n",
       "  0.447214  0.0  0.0   0.0  0.894427\n",
       " -0.0       1.0  0.0  -0.0  0.0\n",
       "  0.0       0.0  0.0   1.0  0.0"
      ]
     },
     "execution_count": 5,
     "metadata": {},
     "output_type": "execute_result"
    }
   ],
   "source": [
    "# define a matrix to factorize\n",
    "A = [1. 0. 0. 0. 2.; 0. 0. 3. 0. 0.; 0. 0. 0. 0. 0.; 0. 2. 0. 0. 0.]\n",
    "\n",
    "# print matrix\n",
    "println(string(\"A = \", A))\n",
    "println()\n",
    "\n",
    "println(\"Singular Value Decomposition of A: \")\n",
    "println(\"----------------------------------\")\n",
    "# perform SVD of A\n",
    "F = svd(A)"
   ]
  },
  {
   "cell_type": "code",
   "execution_count": 6,
   "metadata": {},
   "outputs": [
    {
     "name": "stdout",
     "output_type": "stream",
     "text": [
      "Singular Value Reconstruction of A: \n",
      "----------------------------------\n"
     ]
    },
    {
     "data": {
      "text/plain": [
       "4×5 Matrix{Float64}:\n",
       " 1.0  0.0  0.0  0.0  2.0\n",
       " 0.0  0.0  3.0  0.0  0.0\n",
       " 0.0  0.0  0.0  0.0  0.0\n",
       " 0.0  2.0  0.0  0.0  0.0"
      ]
     },
     "execution_count": 6,
     "metadata": {},
     "output_type": "execute_result"
    }
   ],
   "source": [
    "# reconstruct A using decomposition\n",
    "# Notice: dot notation to access U, S, and Vt factors stored in F data structure and use of Diagonal() function to convert 4-element vector to 4 by 4 \n",
    "# diagonal matrix\n",
    "\n",
    "println(\"Singular Value Reconstruction of A: \")\n",
    "println(\"----------------------------------\")\n",
    "\n",
    "# reconstruct A\n",
    "F.U * Diagonal(F.S) * F.Vt"
   ]
  }
 ],
 "metadata": {
  "kernelspec": {
   "display_name": "Julia 1.6.0",
   "language": "julia",
   "name": "julia-1.6"
  },
  "language_info": {
   "file_extension": ".jl",
   "mimetype": "application/julia",
   "name": "julia",
   "version": "1.6.0"
  }
 },
 "nbformat": 4,
 "nbformat_minor": 4
}
